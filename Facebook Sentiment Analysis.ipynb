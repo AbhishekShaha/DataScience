{
 "cells": [
  {
   "cell_type": "markdown",
   "metadata": {},
   "source": [
    "# Facebook Data for Sentimental Analysis\n",
    "## use below link and login to your facebook account\n",
    "[Developer.Facebook.com](https://developer.facebook.com)"
   ]
  },
  {
   "cell_type": "markdown",
   "metadata": {},
   "source": [
    "* **Navigate to Tools&Support in top menu as in Fig. 1.**\n",
    "\n",
    "![figure_1](tools.JPG)\n",
    "\n",
    "* **Then go to Graph API Explorer, this is an app which allows to use the data provide by million of users in facebook for your analysis as in Fig. 2.**\n",
    "\n",
    "![figure_2](api.JPG)\n",
    "\n",
    "* **Graph API Explorer looks like as Fig. 3., Get your access token key by pressing *GET TOKEN* and then *Get User Access Token* , new window will pop up to take permissions press *Get Access Token without selecting/unselecting anything* as in Fig. 4. **\n",
    "\n",
    "![figure_3](gae.JPG)\n",
    "\n",
    "![figure_4](permission.JPG)\n",
    "\n",
    "* **Press *SUBMIT* to explore data as in Fig. 5.**\n",
    "\n",
    "![figure_5](eg1.JPG)\n",
    "\n",
    "* **Another example, in this example we will get the very recent post of page *The Inventors* as in Fig.6 **\n",
    "[The Inventors](https://www.facebook.com/tiproducts/)\n",
    "\n",
    "![figure_6](eg2.JPG)\n",
    "\n",
    "\n",
    "* **To learn more about GET coomands, visit** [Facebook Get Commands](https://developers.facebook.com/docs/graph-api/overview/)"
   ]
  },
  {
   "cell_type": "markdown",
   "metadata": {},
   "source": [
    "# Use of Facebook Graph API with Python.\n",
    "## I am using Anaconda Enviroment for all the Packages.\n",
    "\n",
    "* **To download Anaconda for windows, use this link** [Anaconda](https://conda.io/docs/user-guide/install/windows.html)"
   ]
  },
  {
   "cell_type": "code",
   "execution_count": 2,
   "metadata": {},
   "outputs": [
    {
     "name": "stdout",
     "output_type": "stream",
     "text": [
      "Let's start understanding Deep Learning by Separating input neurals by y=mx+b with Tensorflow an open source library for deep learning by Google IO.\n",
      "visit www.elacsoft.cf\n",
      "and also,\n",
      "playground.tensorflow.org\n"
     ]
    }
   ],
   "source": [
    "import requests\n",
    "token = \"Enter Your token Id Here\"\n",
    "## Remember once you close the developer page your token will expire automatically.\n",
    "\n",
    "# to obtain newest post of page\n",
    "\"\"\"PageName?fields=posts.limit(1){message}\"\"\"\n",
    "\n",
    "def req_facebook(req):\n",
    "    r = requests.get(\"https://graph.facebook.com/v2.12/\" + req, {'access_token' : token})\n",
    "    return r\n",
    "\n",
    "def extract_data(r):\n",
    "    Data = r.json()\n",
    "    Data = Data['posts']['data'][0]['message']\n",
    "    return Data\n",
    "\n",
    "r = req_facebook(\"tiproducts?fields=posts.limit(1){message}\")\n",
    "Data = extract_data(r)\n",
    "print(Data)\n",
    "\n",
    "#Save your Data in file                     \n",
    "file = open(\"FacebookData.txt\", \"a\")\n",
    "file.write(Data)\n",
    "file.write(\"\\n\")\n",
    "file.close()"
   ]
  },
  {
   "cell_type": "markdown",
   "metadata": {},
   "source": [
    "## Let's compare to original post in Facebook/tiproducts\n",
    "![Recent Post on The Inventors Page](fbpost.JPG)"
   ]
  },
  {
   "cell_type": "markdown",
   "metadata": {},
   "source": [
    "## You can use others API for Positive/Negative/Neutral responses or make your own API with Machine Learning. I am sharing how to do it with Python for this perticular code I am using Restraunts Data extract from Twitter to train my model.\n",
    "\n",
    "## Key Points:\n",
    "* NLTK (Natural Language Toolkit)\n",
    "* re (regular expressions)\n",
    "* Naive Bayes(GaussianNB, or use BernouliNB for better train/test Accuracy)\n",
    "* Frequency of Words.\n",
    "* Corpus\n",
    "* porterstemmer\n",
    "* stopwords\n",
    "* countVactorizer.\n",
    "* confusion matrix"
   ]
  },
  {
   "cell_type": "code",
   "execution_count": null,
   "metadata": {
    "collapsed": true
   },
   "outputs": [],
   "source": [
    "# Natural Language Processing\n",
    "\n",
    "# Importing the libraries\n",
    "import numpy as np\n",
    "import matplotlib.pyplot as plt\n",
    "import pandas as pd\n",
    "\n",
    "# Importing the dataset\n",
    "dataset = pd.read_csv('Restaurant_Reviews.tsv', delimiter = '\\t', quoting = 3) #.tsv is tab saperated values.\n",
    "\n",
    "# Cleaning the texts\n",
    "import re\n",
    "import nltk\n",
    "nltk.download('stopwords')\n",
    "from nltk.corpus import stopwords\n",
    "from nltk.stem.porter import PorterStemmer\n",
    "corpus = []\n",
    "for i in range(0, 1000):\n",
    "    review = re.sub('[^a-zA-Z]', ' ', dataset['Review'][i])\n",
    "    review = review.lower()\n",
    "    review = review.split()\n",
    "    ps = PorterStemmer()\n",
    "    review = [ps.stem(word) for word in review if not word in set(stopwords.words('english'))]\n",
    "    review = ' '.join(review)\n",
    "    corpus.append(review)\n",
    "\n",
    "# Creating the Bag of Words model\n",
    "from sklearn.feature_extraction.text import CountVectorizer\n",
    "cv = CountVectorizer(max_features = 1500)\n",
    "X = cv.fit_transform(corpus).toarray()\n",
    "y = dataset.iloc[:, 1].values\n",
    "\n",
    "# Splitting the dataset into the Training set and Test set\n",
    "from sklearn.cross_validation import train_test_split\n",
    "X_train, X_test, y_train, y_test = train_test_split(X, y, test_size = 0.20, random_state = 0)\n",
    "\n",
    "# Fitting Naive Bayes to the Training set\n",
    "from sklearn.naive_bayes import GaussianNB\n",
    "classifier = GaussianNB()\n",
    "classifier.fit(X_train, y_train)\n",
    "\n",
    "# Predicting the Test set results\n",
    "y_pred = classifier.predict(X_test)\n",
    "\n",
    "# Making the Confusion Matrix\n",
    "from sklearn.metrics import confusion_matrix\n",
    "cm = confusion_matrix(y_test, y_pred)"
   ]
  },
  {
   "cell_type": "markdown",
   "metadata": {},
   "source": [
    "## Once your classifier is trained, use facebook data to analyse, and ofcourse you can use any dataset other than Restraunts.tsv.\n",
    "\n",
    "\n",
    "# Hope you like this tutorial.\n",
    "## I'll sharing twitter/insta sentiment analysis soon.\n",
    "\n",
    "[MyFacebookProfile](https://www.facebook.com/owais.chishti.35)\n",
    "\n",
    "[MyTwitterProfile](https://twitter.com/robertw26984557)\n",
    "\n",
    "[MyYoutubeChannel](https://www.youtube.com/channel/UCWha7dSnT_k7mBGJ0XFB0IQ?view_as=subscriber&pbjreload=10)\n",
    "\n",
    "[MyWebsite](http://elacsoft.cf)"
   ]
  },
  {
   "cell_type": "code",
   "execution_count": null,
   "metadata": {
    "collapsed": true
   },
   "outputs": [],
   "source": []
  }
 ],
 "metadata": {
  "kernelspec": {
   "display_name": "Python 3",
   "language": "python",
   "name": "python3"
  },
  "language_info": {
   "codemirror_mode": {
    "name": "ipython",
    "version": 3
   },
   "file_extension": ".py",
   "mimetype": "text/x-python",
   "name": "python",
   "nbconvert_exporter": "python",
   "pygments_lexer": "ipython3",
   "version": "3.6.1"
  }
 },
 "nbformat": 4,
 "nbformat_minor": 2
}
